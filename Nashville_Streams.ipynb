{
 "cells": [
  {
   "cell_type": "code",
   "execution_count": 1,
   "id": "9f152419-485a-46c5-8be1-1d3321577aa6",
   "metadata": {},
   "outputs": [],
   "source": [
    "import pandas as pd\n",
    "import requests\n",
    "import matplotlib.pyplot as plt\n",
    "import seaborn as sns"
   ]
  },
  {
   "cell_type": "markdown",
   "id": "be1e4ad4-286e-4918-9b47-11235a303f56",
   "metadata": {},
   "source": [
    "## Precipitation data\n",
    "\n",
    "Data from https://www.ncei.noaa.gov/"
   ]
  },
  {
   "cell_type": "code",
   "execution_count": 2,
   "id": "1fbdb420-df43-45f4-ad8d-bc82fc2439eb",
   "metadata": {},
   "outputs": [],
   "source": [
    "token = 'aINGVmYtICYnUyESWudUYnpFddVJacPt'"
   ]
  },
  {
   "cell_type": "code",
   "execution_count": 4,
   "id": "610a631c-10cb-4bfa-a2da-f8a7d40bfde3",
   "metadata": {},
   "outputs": [],
   "source": [
    "url = 'https://www.ncei.noaa.gov/cdo-web/api/v2/data?datasetid=PRECIP_HLY&stationid=COOP:406402&startdate=2004-01-01&enddate=2004-06-30&limit=1000'\n",
    "\n",
    "r = requests.get(url, headers={'token':token})\n",
    "json_data = r.json()"
   ]
  },
  {
   "cell_type": "code",
   "execution_count": 5,
   "id": "acac9181-ef18-4746-8cbb-7fadd9abdfcb",
   "metadata": {},
   "outputs": [],
   "source": [
    "precip = pd.DataFrame(json_data['results'])"
   ]
  },
  {
   "cell_type": "code",
   "execution_count": 6,
   "id": "e9f61cce-0c09-4a1d-bad3-bd0224740639",
   "metadata": {},
   "outputs": [
    {
     "name": "stdout",
     "output_type": "stream",
     "text": [
      "<class 'pandas.core.frame.DataFrame'>\n",
      "RangeIndex: 678 entries, 0 to 677\n",
      "Data columns (total 5 columns):\n",
      " #   Column      Non-Null Count  Dtype \n",
      "---  ------      --------------  ----- \n",
      " 0   date        678 non-null    object\n",
      " 1   datatype    678 non-null    object\n",
      " 2   station     678 non-null    object\n",
      " 3   attributes  678 non-null    object\n",
      " 4   value       678 non-null    int64 \n",
      "dtypes: int64(1), object(4)\n",
      "memory usage: 26.6+ KB\n"
     ]
    }
   ],
   "source": [
    "precip.info()"
   ]
  },
  {
   "cell_type": "code",
   "execution_count": 10,
   "id": "e291d7fa-a720-4f9c-a7ec-54070ee612cd",
   "metadata": {},
   "outputs": [
    {
     "data": {
      "text/plain": [
       "(678, 5)"
      ]
     },
     "execution_count": 10,
     "metadata": {},
     "output_type": "execute_result"
    }
   ],
   "source": [
    "precip.shape"
   ]
  },
  {
   "cell_type": "code",
   "execution_count": 19,
   "id": "f53e2a98-563e-4f4f-9641-18486827bc43",
   "metadata": {},
   "outputs": [],
   "source": [
    "def request_precip(dates):\n",
    "    url = f'https://www.ncei.noaa.gov/cdo-web/api/v2/data?datasetid=PRECIP_HLY&stationid=COOP:406402&startdate={dates[0]}&enddate={dates[1]}&limit=1000'\n",
    "\n",
    "    r = requests.get(url, headers={'token':token})\n",
    "    json_data = r.json()\n",
    "    \n",
    "    temp = pd.DataFrame(json_data['results'])\n",
    "    print(temp.shape)\n",
    "    \n",
    "    return temp\n",
    "    "
   ]
  },
  {
   "cell_type": "code",
   "execution_count": 34,
   "id": "38ed0355-9083-4bb6-84c5-b2a488473da1",
   "metadata": {},
   "outputs": [],
   "source": [
    "dates = [['2004-01-01', '2004-06-30'], ['2004-07-01', '2004-12-31'], \n",
    "         ['2005-01-01', '2005-06-30'], ['2005-07-01', '2005-12-31'], \n",
    "        ['2006-01-01', '2006-06-30'], ['2006-07-01', '2006-12-31'], \n",
    "        ['2007-01-01', '2007-06-30'], ['2007-07-01', '2007-12-31'], \n",
    "        ['2008-01-01', '2008-06-30'], ['2008-07-01', '2008-12-31'], \n",
    "        ['2009-01-01', '2009-06-30'], ['2009-07-01', '2009-12-31'], \n",
    "        ['2010-01-01', '2010-06-30'], ['2010-07-01', '2010-12-31'], \n",
    "        ['2011-01-01', '2011-06-30'], ['2011-07-01', '2011-12-31'], \n",
    "        ['2012-01-01', '2012-06-30'], ['2012-07-01', '2012-12-31'], \n",
    "        ['2013-01-01', '2013-06-30'], ['2013-07-01', '2013-12-31']]\n"
   ]
  },
  {
   "cell_type": "code",
   "execution_count": 35,
   "id": "ff0ec85d-5420-4904-bb13-153bc08da357",
   "metadata": {},
   "outputs": [
    {
     "name": "stdout",
     "output_type": "stream",
     "text": [
      "(678, 5)\n",
      "(574, 5)\n",
      "(601, 5)\n",
      "(338, 5)\n",
      "(558, 5)\n",
      "(446, 5)\n",
      "(411, 5)\n",
      "(410, 5)\n",
      "(520, 5)\n",
      "(386, 5)\n",
      "(549, 5)\n",
      "(513, 5)\n",
      "(619, 5)\n",
      "(391, 5)\n",
      "(615, 5)\n",
      "(466, 5)\n",
      "(409, 5)\n",
      "(431, 5)\n",
      "(594, 5)\n",
      "(490, 5)\n"
     ]
    }
   ],
   "source": [
    "precip = pd.DataFrame()\n",
    "\n",
    "for date in dates:\n",
    "    temp = request_precip(date)\n",
    "    precip = precip.append(temp)"
   ]
  },
  {
   "cell_type": "code",
   "execution_count": 36,
   "id": "907e0def-d828-41c3-9080-035fbe66ce31",
   "metadata": {},
   "outputs": [
    {
     "name": "stdout",
     "output_type": "stream",
     "text": [
      "<class 'pandas.core.frame.DataFrame'>\n",
      "Int64Index: 9999 entries, 0 to 489\n",
      "Data columns (total 5 columns):\n",
      " #   Column      Non-Null Count  Dtype \n",
      "---  ------      --------------  ----- \n",
      " 0   date        9999 non-null   object\n",
      " 1   datatype    9999 non-null   object\n",
      " 2   station     9999 non-null   object\n",
      " 3   attributes  9999 non-null   object\n",
      " 4   value       9999 non-null   int64 \n",
      "dtypes: int64(1), object(4)\n",
      "memory usage: 468.7+ KB\n"
     ]
    }
   ],
   "source": [
    "precip.info()"
   ]
  },
  {
   "cell_type": "code",
   "execution_count": 37,
   "id": "935aa44b-06c8-44d4-b4ac-a6d04848c959",
   "metadata": {},
   "outputs": [
    {
     "data": {
      "text/html": [
       "<div>\n",
       "<style scoped>\n",
       "    .dataframe tbody tr th:only-of-type {\n",
       "        vertical-align: middle;\n",
       "    }\n",
       "\n",
       "    .dataframe tbody tr th {\n",
       "        vertical-align: top;\n",
       "    }\n",
       "\n",
       "    .dataframe thead th {\n",
       "        text-align: right;\n",
       "    }\n",
       "</style>\n",
       "<table border=\"1\" class=\"dataframe\">\n",
       "  <thead>\n",
       "    <tr style=\"text-align: right;\">\n",
       "      <th></th>\n",
       "      <th>date</th>\n",
       "      <th>datatype</th>\n",
       "      <th>station</th>\n",
       "      <th>attributes</th>\n",
       "      <th>value</th>\n",
       "    </tr>\n",
       "  </thead>\n",
       "  <tbody>\n",
       "    <tr>\n",
       "      <th>0</th>\n",
       "      <td>2004-01-01T01:00:00</td>\n",
       "      <td>HPCP</td>\n",
       "      <td>COOP:406402</td>\n",
       "      <td>g,</td>\n",
       "      <td>0</td>\n",
       "    </tr>\n",
       "    <tr>\n",
       "      <th>1</th>\n",
       "      <td>2004-01-01T11:00:00</td>\n",
       "      <td>HPCP</td>\n",
       "      <td>COOP:406402</td>\n",
       "      <td>T,</td>\n",
       "      <td>0</td>\n",
       "    </tr>\n",
       "    <tr>\n",
       "      <th>2</th>\n",
       "      <td>2004-01-01T12:00:00</td>\n",
       "      <td>HPCP</td>\n",
       "      <td>COOP:406402</td>\n",
       "      <td>T,</td>\n",
       "      <td>0</td>\n",
       "    </tr>\n",
       "    <tr>\n",
       "      <th>3</th>\n",
       "      <td>2004-01-02T00:00:00</td>\n",
       "      <td>HPCP</td>\n",
       "      <td>COOP:406402</td>\n",
       "      <td>T,</td>\n",
       "      <td>0</td>\n",
       "    </tr>\n",
       "    <tr>\n",
       "      <th>4</th>\n",
       "      <td>2004-01-02T01:00:00</td>\n",
       "      <td>HPCP</td>\n",
       "      <td>COOP:406402</td>\n",
       "      <td>,</td>\n",
       "      <td>10</td>\n",
       "    </tr>\n",
       "  </tbody>\n",
       "</table>\n",
       "</div>"
      ],
      "text/plain": [
       "                  date datatype      station attributes  value\n",
       "0  2004-01-01T01:00:00     HPCP  COOP:406402         g,      0\n",
       "1  2004-01-01T11:00:00     HPCP  COOP:406402         T,      0\n",
       "2  2004-01-01T12:00:00     HPCP  COOP:406402         T,      0\n",
       "3  2004-01-02T00:00:00     HPCP  COOP:406402         T,      0\n",
       "4  2004-01-02T01:00:00     HPCP  COOP:406402          ,     10"
      ]
     },
     "execution_count": 37,
     "metadata": {},
     "output_type": "execute_result"
    }
   ],
   "source": [
    "precip.head()"
   ]
  },
  {
   "cell_type": "code",
   "execution_count": 38,
   "id": "d2efcbb5-6521-46fa-a69a-e271b48c9f49",
   "metadata": {},
   "outputs": [
    {
     "data": {
      "text/plain": [
       ",        4073\n",
       "T,       3503\n",
       ",,HI     1423\n",
       "T,,HI     889\n",
       "g,         85\n",
       "g,,HI      26\n",
       "Name: attributes, dtype: int64"
      ]
     },
     "execution_count": 38,
     "metadata": {},
     "output_type": "execute_result"
    }
   ],
   "source": [
    "precip['attributes'].value_counts()"
   ]
  },
  {
   "cell_type": "code",
   "execution_count": 39,
   "id": "3ab04bdf-b9c4-4128-9ac7-36e3abec9dde",
   "metadata": {},
   "outputs": [],
   "source": [
    "precip['date'] = pd.to_datetime(precip['date'])"
   ]
  },
  {
   "cell_type": "code",
   "execution_count": 40,
   "id": "4dba5cb3-83b4-4088-b65b-e11de8c110c0",
   "metadata": {},
   "outputs": [
    {
     "data": {
      "image/png": "[encoded data removed]",
      "text/plain": [
       "<Figure size 432x288 with 1 Axes>"
      ]
     },
     "metadata": {
      "needs_background": "light"
     },
     "output_type": "display_data"
    }
   ],
   "source": [
    "plt.plot(precip['date'], precip['value']);"
   ]
  },
  {
   "cell_type": "markdown",
   "id": "d46ef0c7-fdd2-465d-83d9-4fea7062f0d9",
   "metadata": {},
   "source": [
    "## Rain Gage data"
   ]
  },
  {
   "cell_type": "code",
   "execution_count": null,
   "id": "fc30c539-92c2-425c-955d-edd949a5166f",
   "metadata": {},
   "outputs": [],
   "source": []
  }
 ],
 "metadata": {
  "kernelspec": {
   "display_name": "Python 3",
   "language": "python",
   "name": "python3"
  },
  "language_info": {
   "codemirror_mode": {
    "name": "ipython",
    "version": 3
   },
   "file_extension": ".py",
   "mimetype": "text/x-python",
   "name": "python",
   "nbconvert_exporter": "python",
   "pygments_lexer": "ipython3",
   "version": "3.8.8"
  }
 },
 "nbformat": 4,
 "nbformat_minor": 5
}
